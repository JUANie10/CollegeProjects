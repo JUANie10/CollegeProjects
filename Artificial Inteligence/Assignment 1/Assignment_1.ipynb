{
  "nbformat": 4,
  "nbformat_minor": 0,
  "metadata": {
    "colab": {
      "name": "Copy of Assignment 1.ipynb",
      "provenance": [],
      "collapsed_sections": []
    },
    "kernelspec": {
      "name": "python3",
      "display_name": "Python 3"
    }
  },
  "cells": [
    {
      "cell_type": "code",
      "metadata": {
        "id": "2IlwhV0z2nMr",
        "colab_type": "code",
        "colab": {}
      },
      "source": [
        "%matplotlib inline"
      ],
      "execution_count": null,
      "outputs": []
    },
    {
      "cell_type": "markdown",
      "metadata": {
        "id": "Chprzdhe2nMw",
        "colab_type": "text"
      },
      "source": [
        "# Assignment 1\n",
        "\n",
        "**DUE: Sunday June 28, 2020 11:59pm**\n",
        "\n",
        "Turn in the assignment via Canvas.\n",
        "\n",
        "To write legible answers you will need to be familiar with both [Markdown](https://github.com/adam-p/markdown-here/wiki/Markdown-Cheatsheet) and [Latex](https://www.latex-tutorial.com/tutorials/amsmath/)\n",
        "\n",
        "Before you turn this problem in, make sure everything runs as expected. First, restart the kernel (in the menubar, select Kernel→→Restart) and then run all cells (in the menubar, select Cell→→Run All).\n",
        "\n",
        "Make sure you fill in any place that says \"YOUR CODE HERE\" or \"YOUR ANSWER HERE\", as well as your name below:"
      ]
    },
    {
      "cell_type": "code",
      "metadata": {
        "id": "8jeWubXE2nMx",
        "colab_type": "code",
        "colab": {}
      },
      "source": [
        "NAME = \"Juan Lee\"\n",
        "STUDENT_ID = \"\""
      ],
      "execution_count": null,
      "outputs": []
    },
    {
      "cell_type": "markdown",
      "metadata": {
        "id": "IuKjsnku2nM0",
        "colab_type": "text"
      },
      "source": [
        "## Problem 1 - Bayes' Theorem\n",
        "\n",
        "Sadly, many physicians and almost all (non-mathematician) patients would get this problem wrong!\n",
        "\n",
        "Suppose that a certain form of cancer has a test that correctly detects cancer (if one has it) 99.5% of the time. The prevalence of the cancer in the general population is 1 person in 14,000. Also, if one doesn't have cancer, the test will incorrectly say that one does, $\\frac{1}{2}$% of the time (one out of 200).\n",
        "\n",
        "NOTE: For each of the following questions, please give each answer to at least 2 significant digit accuracy. To accomplish this, don't round off your results until the very last step of each calculation."
      ]
    },
    {
      "cell_type": "markdown",
      "metadata": {
        "id": "SFo7zFtj2nM1",
        "colab_type": "text"
      },
      "source": [
        "### (a) What's the probability that someone picked at random has this form of cancer?"
      ]
    },
    {
      "cell_type": "markdown",
      "metadata": {
        "id": "9d4leB3V2nM1",
        "colab_type": "text"
      },
      "source": [
        "[.000071]\n"
      ]
    },
    {
      "cell_type": "markdown",
      "metadata": {
        "id": "WM5lAMU82nM2",
        "colab_type": "text"
      },
      "source": [
        "### (b) If you take the test and it comes out positive, what is the probability that you have this form of cancer?"
      ]
    },
    {
      "cell_type": "markdown",
      "metadata": {
        "id": "ZsBQVxMR2nM3",
        "colab_type": "text"
      },
      "source": [
        "# [.995]\n",
        "\n"
      ]
    },
    {
      "cell_type": "markdown",
      "metadata": {
        "id": "pua_aISb2nM3",
        "colab_type": "text"
      },
      "source": [
        "### (c) If you take the test and it comes out negative, what is the probability that you have this form of cancer?"
      ]
    },
    {
      "cell_type": "markdown",
      "metadata": {
        "id": "weAoBNzY2nM4",
        "colab_type": "text"
      },
      "source": [
        "[.005]"
      ]
    },
    {
      "cell_type": "markdown",
      "metadata": {
        "id": "7j4S5MWR2nM4",
        "colab_type": "text"
      },
      "source": [
        "## List and Dictionary Comprehensions\n",
        "\n",
        "In Python, there is a very useful construct called list comprehensions, which in Python 3 also can be used to construct dictionaries.\n",
        "\n",
        "For one simple example, we can generate a list of random integers using Numpy's randint function.  We can then generate a list of the cubes of those numbers. "
      ]
    },
    {
      "cell_type": "code",
      "metadata": {
        "id": "vbRzV-M32nM5",
        "colab_type": "code",
        "colab": {
          "base_uri": "https://localhost:8080/",
          "height": 50
        },
        "outputId": "ac155307-12ef-4407-eb45-373f15baad8c"
      },
      "source": [
        "from numpy.random import randint, seed\n",
        "\n",
        "# Set the seed so the same random numbers will be generated.\n",
        "seed(42)\n",
        "\n",
        "# Create a list of 22 simulated die casts (i.e., 22 random numbers from 1 to 6).\n",
        "number_list = [randint(1, 7) for _ in range(22)]\n",
        "print(number_list)\n",
        "\n",
        "# Now create a list of the cubes of those of the above integers that are less than 5.\n",
        "cubed = [n**3 for n in number_list if n < 5]\n",
        "print(cubed)"
      ],
      "execution_count": null,
      "outputs": [
        {
          "output_type": "stream",
          "text": [
            "[4, 5, 3, 5, 5, 2, 3, 3, 3, 5, 4, 3, 6, 5, 2, 4, 6, 6, 2, 4, 5, 1]\n",
            "[64, 27, 8, 27, 27, 27, 64, 27, 8, 64, 8, 64, 1]\n"
          ],
          "name": "stdout"
        }
      ]
    },
    {
      "cell_type": "markdown",
      "metadata": {
        "id": "04iYmpbf2nM9",
        "colab_type": "text"
      },
      "source": [
        "## Problem 2 -  List Comprehensions\n",
        "\n",
        "### (a) Use list comprehensions to create a list of all the indices of the 2's in the number_list you generated above."
      ]
    },
    {
      "cell_type": "code",
      "metadata": {
        "id": "XnUbGM-F2nM-",
        "colab_type": "code",
        "colab": {
          "base_uri": "https://localhost:8080/",
          "height": 34
        },
        "outputId": "c8f43db3-135d-4781-e1a2-0bd0aa93c211"
      },
      "source": [
        "### YOUR CODE HERE ###\n",
        "listof2 = []\n",
        "i = 0\n",
        "for n in number_list:\n",
        "  if n == 2:\n",
        "    listof2.append(i) \n",
        "  i+=1\n",
        "listof2"
      ],
      "execution_count": null,
      "outputs": [
        {
          "output_type": "execute_result",
          "data": {
            "text/plain": [
              "[5, 14, 18]"
            ]
          },
          "metadata": {
            "tags": []
          },
          "execution_count": 4
        }
      ]
    },
    {
      "cell_type": "markdown",
      "metadata": {
        "id": "g24ZpJCz2nNB",
        "colab_type": "text"
      },
      "source": [
        "### (b) Generate a list of the sum of the numbers that come up when a pair of dice is cast 22 times."
      ]
    },
    {
      "cell_type": "code",
      "metadata": {
        "id": "oMeFMaYF2nNB",
        "colab_type": "code",
        "colab": {
          "base_uri": "https://localhost:8080/",
          "height": 386
        },
        "outputId": "95c9a62d-536a-40f1-f71a-6e9caf44c62c"
      },
      "source": [
        "seed(117)   # DON'T CHANGE\n",
        "\n",
        "### YOUR CODE HERE ###\n",
        "random_num = []\n",
        "sums = []\n",
        "for i in range(22):\n",
        "  random_num.append(randint(1, 7))\n",
        "  sums.append(sum(random_num))\n",
        "  \n",
        "sums"
      ],
      "execution_count": null,
      "outputs": [
        {
          "output_type": "execute_result",
          "data": {
            "text/plain": [
              "[1,\n",
              " 2,\n",
              " 4,\n",
              " 8,\n",
              " 10,\n",
              " 16,\n",
              " 18,\n",
              " 22,\n",
              " 23,\n",
              " 26,\n",
              " 28,\n",
              " 32,\n",
              " 35,\n",
              " 38,\n",
              " 42,\n",
              " 45,\n",
              " 48,\n",
              " 54,\n",
              " 56,\n",
              " 58,\n",
              " 61,\n",
              " 63]"
            ]
          },
          "metadata": {
            "tags": []
          },
          "execution_count": 5
        }
      ]
    },
    {
      "cell_type": "markdown",
      "metadata": {
        "id": "j_n93RnA2nNF",
        "colab_type": "text"
      },
      "source": [
        "### (c) Generate a list of the sum of the numbers that come up when a pair of dice is cast 100000 times. Find the mean and standard deviation of these numbers."
      ]
    },
    {
      "cell_type": "code",
      "metadata": {
        "id": "SrZiINza2nNG",
        "colab_type": "code",
        "colab": {
          "base_uri": "https://localhost:8080/",
          "height": 34
        },
        "outputId": "353d1601-d800-48f7-9afd-08792c85a92f"
      },
      "source": [
        "from numpy import mean, std\n",
        "\n",
        "seed(111)   # DON'T CHANGE\n",
        "\n",
        "### YOUR CODE HERE ###\n",
        "random_num = []\n",
        "sums = []\n",
        "for i in range(100000):\n",
        "  random_num.append(randint(1, 7))\n",
        "  sums.append(sum(random_num))\n",
        "\n",
        "print('mean =', mean(sums), '    std =', std(sums))"
      ],
      "execution_count": null,
      "outputs": [
        {
          "output_type": "stream",
          "text": [
            "mean = 175624.97082     std = 101437.6191798144\n"
          ],
          "name": "stdout"
        }
      ]
    },
    {
      "cell_type": "markdown",
      "metadata": {
        "id": "DYc9WhOH2nNM",
        "colab_type": "text"
      },
      "source": [
        "## Monte Carlo Simulations\n",
        "\n",
        "Monte Carlo simulations can yield numeric solutions to probability problems that aren't possible to solve analytically. These simulations are also often easy to code up, and so also provide a way to check one's calculations for problems that amenable to analysis. So this is an important technique to become familiar with.\n",
        "\n",
        "Basically, one creates a simulation of the situation, and runs many trials that allow one to estimate the probabilities by computing proportions. \n",
        "\n",
        "First we give you an example of a Monte Carlo simulation, and then you'll solve such a problem yourself.\n",
        "\n",
        "### Example\n",
        "\n",
        "If you throw a die 100 times, with what probability are you likely to see the subsequence {2, 4, 6} appear?\n",
        "\n",
        "Be patient, this may take a few minutes to run, but notice how straightforward the coding is. The simplicity of the Monte Carlo method makes it very powerful."
      ]
    },
    {
      "cell_type": "code",
      "metadata": {
        "id": "AHD7j_rd2nNN",
        "colab_type": "code",
        "colab": {
          "base_uri": "https://localhost:8080/",
          "height": 202
        },
        "outputId": "ed88552b-e628-4d33-9a02-8fef87b79d35"
      },
      "source": [
        "from numpy.random import randint\n",
        "import numpy as np\n",
        "\n",
        "seed(17)   # DON'T CHANGE\n",
        "\n",
        "num_tosses = 100    # tosses per trial\n",
        "num_trials = 100000\n",
        "\n",
        "# This sets the feedback interval so we know the program hasn't crashed.\n",
        "feedback = int(np.round(num_trials / 10))\n",
        "\n",
        "num_seq_found = 0   # to count the number of target subsequences detected\n",
        "for t in range(1, num_trials + 1):\n",
        "    \n",
        "    # To see the progress.\n",
        "    if t % feedback == 0:  \n",
        "        print(np.round(100 * t / num_trials, 1), '%  complete:   prob =', num_seq_found / t)\n",
        "        \n",
        "    # Roll the die num_tosses times.\n",
        "    trial = [randint(1, 7) for _ in range(num_tosses)]\n",
        "    # Find the indices of all the 2s.\n",
        "    twos = [i for i in range(num_tosses) if trial[i] == 2]\n",
        "    \n",
        "    # Search to see if after each 2 we have a 4 followed by a 6.\n",
        "    for j in twos:\n",
        "        if j < num_tosses - 2 and trial[j] == 2 and trial[j + 1] == 4 and trial[j + 2] == 6:\n",
        "            # We've found the target subsequence.\n",
        "            num_seq_found += 1\n",
        "    \n",
        "print('Probability of this subsequence =', num_seq_found / num_trials)"
      ],
      "execution_count": null,
      "outputs": [
        {
          "output_type": "stream",
          "text": [
            "10.0 %  complete:   prob = 0.4509\n",
            "20.0 %  complete:   prob = 0.45315\n",
            "30.0 %  complete:   prob = 0.4488\n",
            "40.0 %  complete:   prob = 0.448225\n",
            "50.0 %  complete:   prob = 0.44994\n",
            "60.0 %  complete:   prob = 0.4504166666666667\n",
            "70.0 %  complete:   prob = 0.4519\n",
            "80.0 %  complete:   prob = 0.451175\n",
            "90.0 %  complete:   prob = 0.4522888888888889\n",
            "100.0 %  complete:   prob = 0.45287\n",
            "Probability of this subsequence = 0.45287\n"
          ],
          "name": "stdout"
        }
      ]
    },
    {
      "cell_type": "markdown",
      "metadata": {
        "id": "_wPedRtA2nNS",
        "colab_type": "text"
      },
      "source": [
        "This is often a bit of a waiting game, though by exploiting parallelism one can speed it up a bit.\n",
        "\n",
        "Running the above simulation 5 times previously, we obtained  0.4561, 0.45562, 0.45296, 0.45154, and 0.45529. One can see that the true probability is about 0.454 (their average), though more trials will be needed to obtain a more accurate estimate.  We haven't proved anything, yet we have a very good idea of the true probability. This is a good reality check for many probability calculations. \n",
        "\n",
        "The above can easily be calculated precisely. Any particular sequence of three tosses that come up 2,4,6 has probability $\\left(\\frac{1}{6}\\right)^3$, and there are 98 possible starting points for the sequence, so there are 98 ways in which the target sequence could be achieved. So the probability is:\n",
        "\n",
        "$$\\left(\\frac{1}{6}\\right)^3\\cdot 98 = 0.45370370\\dots~\\dot{=}~0.454$$\n",
        "\n",
        "One can use Monte Carlo Simulations for far more than just solving probability problems. "
      ]
    },
    {
      "cell_type": "markdown",
      "metadata": {
        "id": "rfjV_GuP2nNT",
        "colab_type": "text"
      },
      "source": [
        "## Problem 3  -  Monte Carlo Simulation\n",
        "\n",
        "Consider the following game. Randomly pick three balls (without replacement) from an urn containing 60 red balls, 30 green balls, and 10 blue balls. If the majority of balls is red then roll dice and you win an amount equal to the sum of the dice. If the majority of balls isn't red, than you lose the sum of the dice roll. If you had to pay $2 to play this game, about how much would you expect to win (or lose)? Please round off your answer to the nearest cent."
      ]
    },
    {
      "cell_type": "code",
      "metadata": {
        "id": "YZlUoULK2nNU",
        "colab_type": "code",
        "colab": {
          "base_uri": "https://localhost:8080/",
          "height": 34
        },
        "outputId": "951dcecb-810f-456d-d910-ff56712c84e0"
      },
      "source": [
        "import numpy as np\n",
        "from numpy.random import shuffle, randint, seed\n",
        "\n",
        "seed(213)   # DON'T CHANGE\n",
        "# The number of times you start with a fresh urn and draw 3 balls.\n",
        "num_trials = 1000000  # DON'T CHANGE\n",
        "num_picks = 3\n",
        "### YOUR CODE HERE ###\n",
        "trial = []\n",
        "for i in range(num_trials):\n",
        "  r = 60\n",
        "  g = 90\n",
        "  b = 100\n",
        "  rcount = 0\n",
        "  rtwo = False\n",
        "\n",
        "  temp = randint(1,100)\n",
        "  if temp <= r:\n",
        "    rcount+=1\n",
        "    r-=1\n",
        "    g-=1\n",
        "    b-=1\n",
        "  elif  r< temp <= g:\n",
        "    g-=1\n",
        "    b-=1\n",
        "  elif g < temp <= b:\n",
        "    b-=1\n",
        "\n",
        "  temp = randint(1,99)\n",
        "  if temp <= r:\n",
        "    rcount+=1\n",
        "    r-=1\n",
        "    g-=1\n",
        "    b-=1\n",
        "    if rcount == 2:\n",
        "      rtwo = True\n",
        "  elif  r< temp <= g:\n",
        "    g-=1\n",
        "    b-=1\n",
        "  elif g < temp <= b:\n",
        "    b-=1\n",
        "\n",
        "  temp = randint(1,98)\n",
        "  if temp <= r:\n",
        "    rcount+=1\n",
        "    r-=1\n",
        "    g-=1\n",
        "    b-=1\n",
        "    if rcount == 2:\n",
        "      rtwo = True\n",
        "  elif  r< temp <= g:\n",
        "    g-=1\n",
        "    b-=1\n",
        "  elif g < temp <= b:\n",
        "    b-=1\n",
        "  temp2 = 0\n",
        "  if rtwo == True:\n",
        "    temp2 += randint(1, 7)\n",
        "    temp2 += randint(1, 7)\n",
        "    trial.append(-2 + temp2)\n",
        "    \n",
        "  else:\n",
        "    temp2 += randint(1, 7)\n",
        "    temp2 += randint(1, 7)\n",
        "    trial.append(-2 - temp2)\n",
        "    \n",
        "\n",
        "\n",
        "mean_winnings = mean(trial)\n",
        "\n",
        "print('mean winnings =', mean_winnings)"
      ],
      "execution_count": null,
      "outputs": [
        {
          "output_type": "stream",
          "text": [
            "mean winnings = 0.223042\n"
          ],
          "name": "stdout"
        }
      ]
    },
    {
      "cell_type": "markdown",
      "metadata": {
        "id": "81aAe8rZ2nNa",
        "colab_type": "text"
      },
      "source": [
        "[.22]\n",
        "\n",
        "mean winnings = ?"
      ]
    },
    {
      "cell_type": "markdown",
      "metadata": {
        "id": "0w94BYobayJh",
        "colab_type": "text"
      },
      "source": [
        "## Problem 4\n",
        "\n",
        "Write down the factored conditional probability expression that corresponds\n",
        "to the graphical Bayesian Network shown bellow:\n",
        "\n",
        "![bn1](https://alliance.seas.upenn.edu/~cis520/dynamic/2018/wiki/uploads/Lectures/example_trails_bn_small.png)\n"
      ]
    },
    {
      "cell_type": "markdown",
      "metadata": {
        "id": "1wV-xIShayJh",
        "colab_type": "text"
      },
      "source": [
        "[p(A, B, C, D, E, F, G, H, I, J) = p(A) p(B|A) p(C|B) p(D|C, E) p(H|A, G) p(I|H) p(G) p(F|G) p(E|F) p(J|G)]\n",
        "\n",
        "\n"
      ]
    },
    {
      "cell_type": "markdown",
      "metadata": {
        "id": "4YAGVTJyayJi",
        "colab_type": "text"
      },
      "source": [
        "## Problem 5\n",
        "\n",
        "Given the following Bayesian Network, find the given joint probabilities below. Write out the product of probabilities and conditional probabilites that lead to your numeric answer as well as reporting your numeric answer.\n",
        "\n",
        "![bn2](https://drive.google.com/uc?id=1TKufu8R4QmgAY2hL3dN8BK6m6jif8L2k)"
      ]
    },
    {
      "cell_type": "markdown",
      "metadata": {
        "id": "zopBGTXeayJj",
        "colab_type": "text"
      },
      "source": [
        "### (a) $~~~$ $P(Cloudy, Sprinkler, Rain, Wet\\_Grass) =$ "
      ]
    },
    {
      "cell_type": "markdown",
      "metadata": {
        "id": "a6rsNgzosCbm",
        "colab_type": "text"
      },
      "source": [
        "\n",
        "\n",
        "```\n",
        "`# This is formatted as code`\n",
        "```\n",
        "\n",
        "[.0396]"
      ]
    },
    {
      "cell_type": "markdown",
      "metadata": {
        "colab_type": "text",
        "id": "2vvmuvuSr1Js"
      },
      "source": [
        "###(b) $~~~$  $P(Cloudy, not Sprinkler, Rain, Wet\\_Grass) =$ \n"
      ]
    },
    {
      "cell_type": "markdown",
      "metadata": {
        "id": "qjkNlnw5sHo8",
        "colab_type": "text"
      },
      "source": [
        "[.324]"
      ]
    },
    {
      "cell_type": "markdown",
      "metadata": {
        "colab_type": "text",
        "id": "HhvK5vHir1oR"
      },
      "source": [
        "### (c)  $~~~$   If 5(a) < 5(b), why?  $~~~$  OR $~~~$  If 5(a) > 5(b), why?\n"
      ]
    },
    {
      "cell_type": "markdown",
      "metadata": {
        "id": "cky4os5qsRlK",
        "colab_type": "text"
      },
      "source": [
        "\n",
        "\n",
        "```\n",
        "# This is formatted as code\n",
        "```\n",
        "\n",
        "[5(A) is less than 5(B) because while it was cloudy, having the sprinkler on and having it off makes a huge difference in probability. Having the sprinkler on while it was cloudly multiplies the probability by .1 while having it off would multiply it by .9 instead. p(Cloudy, Rain, Wet_Grass) is the same for part a and b but its the probability of the sprinkler turning off or on that really makes the difference between the two probabilities.]"
      ]
    }
  ]
}