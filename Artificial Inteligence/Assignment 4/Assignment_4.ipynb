{
  "nbformat": 4,
  "nbformat_minor": 0,
  "metadata": {
    "colab": {
      "name": "Copy of Assignment 4.ipynb",
      "provenance": [],
      "collapsed_sections": []
    },
    "kernelspec": {
      "name": "python3",
      "display_name": "Python 3"
    }
  },
  "cells": [
    {
      "cell_type": "markdown",
      "metadata": {
        "id": "IDo6Mz1MoJxR",
        "colab_type": "text"
      },
      "source": [
        "# Assignment 4\n",
        "\n",
        "Turn in the assignment via Canvas.\n",
        "\n",
        "To write legible answers you will need to be familiar with both [Markdown](https://github.com/adam-p/markdown-here/wiki/Markdown-Cheatsheet) and [Latex](https://www.latex-tutorial.com/tutorials/amsmath/)\n",
        "\n",
        "Before you turn this problem in, make sure everything runs as expected. First, restart the kernel (in the menubar, select Runtime→→Restart runtime) and then run all cells (in the menubar, select Runtime→→Run All).\n",
        "\n",
        "Make sure you fill in any place that says \"YOUR CODE HERE\" or \"YOUR ANSWER HERE\", as well as your name below:"
      ]
    },
    {
      "cell_type": "code",
      "metadata": {
        "id": "nOfazHDtoJxS",
        "colab_type": "code",
        "colab": {}
      },
      "source": [
        "NAME = \"Juan Lee\"\n",
        "STUDENT_ID = \"\""
      ],
      "execution_count": null,
      "outputs": []
    },
    {
      "cell_type": "markdown",
      "metadata": {
        "deletable": false,
        "editable": false,
        "nbgrader": {
          "checksum": "5de1d899a516090395f300c2ecc737f0",
          "grade": false,
          "grade_id": "cell-f12bff039a5016a3",
          "locked": true,
          "schema_version": 1,
          "solution": false
        },
        "id": "6q2qG3e3BwDf",
        "colab_type": "text"
      },
      "source": [
        "# Question 1\n",
        "\n",
        "Solve the folowing [8-puzzle](https://en.wikipedia.org/wiki/15_puzzle) using steepest ascent hillclimbing. \n",
        "\n",
        "![8puzzle.png](https://lh3.googleusercontent.com/cjob9NQOFnv80vfG71y2QBi7blTo9zl_UNcnFz1UhICK59Kc8zWBAfRa26yssTv-b7iQT2TiHlCaOLKPW-fXY_1TdIuT8Yzj9fhpKVwuW9cZSF8ehn0oTY5QA3jUfK-AMhrJu5s2aw=w2400)\n",
        "\n",
        "1. State the heuristic used.\n",
        "2. List the steps taken as comma seprated values. For example if the first three moves consist of moving the 3 tile, then the 8 tile, then the 6 tile. Your answer would start like: 3,8,6\n",
        "\n",
        "Here is the description of the algorithm from the book:\n",
        "\n",
        "![hill-climbing.png](https://lh3.googleusercontent.com/e1tTwqFAQvLGhfNdq50sQIzx2yxvP0N2Jnxh18qek59-SzrXaO4pUNnANUILUBd5qoPVoEHreBv8eo2f1zMKEtdLqS8xV47dNu-WNpXreqnEGNMCe7mih1AxG4yPdjA_gL6WjWr48w=w2400)"
      ]
    },
    {
      "cell_type": "markdown",
      "metadata": {
        "deletable": false,
        "nbgrader": {
          "checksum": "3df56022f223af2d0f27060bc9f1ab63",
          "grade": true,
          "grade_id": "cell-dc1edc8aa056f275",
          "locked": false,
          "points": 0,
          "schema_version": 1,
          "solution": true
        },
        "id": "qylRe3kZBwDg",
        "colab_type": "text"
      },
      "source": [
        "# [1. The heuristic that i used is number of puzzle pieces that are at their goal states if I were to swap the empty space with that tile. \n",
        " So from the start, current's heauristic value would be 4.  Neighbor 4 would have heuristic value of 3. Since 4>3, back to current state. Neighbor 3 would have heauristic value of 5. 5>4 So next move would be swap spaces with neighbor 3. \n",
        "2. 3,2,1,8]"
      ]
    },
    {
      "cell_type": "markdown",
      "metadata": {
        "id": "Q5DG1QAeZ7qj",
        "colab_type": "text"
      },
      "source": [
        "# Question 2\n",
        "\n",
        "Consider the following constraint satisfaction problem. A linear graph has nodes of the following colors:\n",
        "\n",
        "- Red\n",
        "- Yellow\n",
        "- Green\n",
        "- Blue\n",
        "- Violet\n",
        "\n",
        "Each node has a domain of {1, 2, ..., 9}.\n",
        "\n",
        "Each node type has the following constraints on its value:\n",
        "\n",
        "- Red - No contraints\n",
        "- Yellow - equals the rightmost digit of of the product of all its neighbors\n",
        "- Green - equals the rightmost digit of the sum of all its neighbors \n",
        "- Blue - equals the leftmost digit of the sum of all its neighbors\n",
        "- Violet - equals the leftmost digit of the product of all of its neighbors\n",
        "\n",
        "As a reminder here is the pseudo code for the Min-Conflicts search algorithm:\n",
        "\n",
        "![minconflicts](https://docs.google.com/drawings/d/e/2PACX-1vTIdOyAKDEoK6evNWQBkx9X5kl2I7GLaUkE9TdFDRqyyNFiHeFDrA-Sm7sLob2wMSzoBk_cliRhs8PY/pub?w=927&amp;h=474)\n",
        "\n",
        "**Notes:**\n",
        "\n",
        "- It's possible that you won't converge to a solution in a single run. Try a few runs to see if you get to a solution.\n",
        "- The example is to show you what a problem looks like, we will test/grade your program on different examples\n",
        "\n",
        "\n",
        "Complete the function *solve_csp* defined below. You may find some helper functions useful."
      ]
    },
    {
      "cell_type": "code",
      "metadata": {
        "id": "lbY3ORcxZ7ql",
        "colab_type": "code",
        "colab": {}
      },
      "source": [
        "from random import *\n",
        "import math\n",
        "\n",
        "#find the value that minimizes the conflict and returning that value\n",
        "def conflict(nodes, asize, arc_n, node_val, i):\n",
        "  value = 0\n",
        "  if nodes[i] == 'Y':\n",
        "    value = 1\n",
        "    for p in range(len(arc_n[i])):\n",
        "      value *= node_val[arc_n[i][p]]\n",
        "    value = value%10\n",
        "  elif nodes[i] == 'G':\n",
        "    value = 0\n",
        "    for p in range(len(arc_n[i])):\n",
        "      value += node_val[arc_n[i][p]]\n",
        "    value = value%10\n",
        "  elif nodes[i] == 'B':\n",
        "    value = 0\n",
        "    for p in range(len(arc_n[i])):\n",
        "      value += node_val[arc_n[i][p]]\n",
        "    while value >= 10:\n",
        "      value /= 10\n",
        "  elif nodes[i] == 'V':\n",
        "    value = 1\n",
        "    for p in range(len(arc_n[i])):\n",
        "      value *= node_val[arc_n[i][p]]\n",
        "    while value >= 10:\n",
        "      value /= 10\n",
        "  elif nodes[i] == 'R':\n",
        "    value = node_val[i]\n",
        "  return math.floor(value)\n",
        "\n",
        "# choosing the random conflicted variable and returning the index of it\n",
        "def ran_conflict(nodes, asize, arc_n, node_val):\n",
        "  found = False\n",
        "  count = 0\n",
        "  while found == False:\n",
        "    index = randrange(0, asize)\n",
        "    val = conflict(nodes, asize, arc_n, node_val, index)\n",
        "    if val != node_val[index]:\n",
        "      return index\n",
        "\n",
        "\n",
        "def arc_organize(arcs, len, alen):\n",
        "  #making a two demensional array to store the arcs\n",
        "  arc_neighbor = []\n",
        "  for i in range(len):\n",
        "    arc_neighbor.append([])\n",
        "\n",
        "  #stores the values of the given arcs into the 2d array\n",
        "  for p in range(alen):\n",
        "    arc_neighbor[arcs[p][0]].append(arcs[p][1])\n",
        "    arc_neighbor[arcs[p][1]].append(arcs[p][0])\n",
        "  return arc_neighbor\n",
        "\n",
        "#checks if a solution has been found to this csp problem\n",
        "def solution(nodes, asize, arc_n, node_val):\n",
        "   for i in range(asize):\n",
        "     val = conflict(nodes, asize, arc_n, node_val, i)\n",
        "     if val != node_val[i]:\n",
        "       return False\n",
        "   return True\n",
        "\n",
        "def solve_csp(nodes, arcs, max_steps):\n",
        "    \"\"\"\n",
        "    This function solves the csp using the MinConflicts Search\n",
        "    Algorithm.\n",
        "\n",
        "    INPUTS:\n",
        "    nodes:      a list of letters that indicates what type of node it is,\n",
        "                the index of the node in the list indicates its id\n",
        "                letters = {R, Y, G, B, V}\n",
        "                \n",
        "    arcs:       a list of tuples that contains two numbers, indicating the \n",
        "                IDS of the nodes the arc connects. \n",
        "                \n",
        "    max_steps:  max number of steps to make before giving up\n",
        "\n",
        "    RETURNS: a list of values for the solution to the CSP where the \n",
        "             index of the value corresponds the value for that\n",
        "             given node.\n",
        "    \"\"\"\n",
        "    #creating a random initial csp state with random values from the range of 0 to 9\n",
        "    node_values = []\n",
        "    asize = len(nodes)\n",
        "    for i in range(asize):\n",
        "      node_values.append(randrange(1, 10))\n",
        "    #Creating a 2D array for keeping track of neighbors\n",
        "    organized_arc = arc_organize(arcs, asize, len(arcs))\n",
        "\n",
        "    val = 0\n",
        "    index = randrange(0, asize)\n",
        "    # Min-conflicts algorithm \n",
        "    for i in range(max_steps):\n",
        "      if solution(nodes, asize, organized_arc, node_values):\n",
        "        return node_values\n",
        "      index = ran_conflict(nodes, asize, organized_arc, node_values)\n",
        "      result = conflict(nodes, asize, organized_arc, node_values, index)\n",
        "      if result != 0:\n",
        "        node_values[index] = result\n",
        "\n",
        "    return node_values"
      ],
      "execution_count": null,
      "outputs": []
    },
    {
      "cell_type": "markdown",
      "metadata": {
        "id": "gNEiSXbSZ7qn",
        "colab_type": "text"
      },
      "source": [
        "### Test Cases\n",
        "\n",
        "Below we've included 4 test cases to help you debug your code. Your submitted code will be tested on different cases than these, but if your implementation of the above Min-Conflicts search algorithm pseudocode is able to solve these problems, you should be good to go."
      ]
    },
    {
      "cell_type": "code",
      "metadata": {
        "id": "dJLJWXYRZ7qo",
        "colab_type": "code",
        "colab": {
          "base_uri": "https://localhost:8080/",
          "height": 34
        },
        "outputId": "820f4424-ceae-463a-b62c-d3320bf8517d"
      },
      "source": [
        "# Test Case 1\n",
        "\n",
        "nodes = 'YGVRB'\n",
        "arcs = [(0,1), (0,2), (1,2), (1,3), (1,4), (2,3), (2,4)]\n",
        "max_steps = 1000\n",
        "\n",
        "for _ in range(max_steps):\n",
        "    sol = solve_csp(nodes, arcs, max_steps)\n",
        "    if sol != []:\n",
        "        break\n",
        "        \n",
        "all_solutions = [[1, 1, 1, 7, 2],[2, 1, 2, 4, 3],[2, 6, 7, 6, 1],[2, 8, 9, 6, 1],\n",
        "                 [3, 3, 1, 5, 4],[6, 2, 8, 7, 1],[6, 7, 8, 2, 1],[6, 9, 4, 8, 1]]\n",
        "\n",
        "if sol == []:\n",
        "    print('No solution')\n",
        "else:\n",
        "    if sol in all_solutions:\n",
        "        print('Solution found:', sol)\n",
        "    else:\n",
        "        print('ERROR: False solution found:', sol)"
      ],
      "execution_count": null,
      "outputs": [
        {
          "output_type": "stream",
          "text": [
            "ERROR: False solution found: [5, 5, 1, 8, 6]\n"
          ],
          "name": "stdout"
        }
      ]
    },
    {
      "cell_type": "code",
      "metadata": {
        "id": "DRwAUILSZ7qs",
        "colab_type": "code",
        "colab": {
          "base_uri": "https://localhost:8080/",
          "height": 50
        },
        "outputId": "7b62c361-c979-40a8-d3f3-d3a7c992aabf"
      },
      "source": [
        "# Test Case 2\n",
        "\n",
        "nodes = 'YVBGR'\n",
        "arcs = [(0,1), (0,2), (1,3), (2,4)]\n",
        "max_steps = 1000\n",
        "\n",
        "for _ in range(max_steps):\n",
        "    sol = solve_csp(nodes, arcs, max_steps)\n",
        "    if sol != []:\n",
        "        print(nodes)\n",
        "        break\n",
        "        \n",
        "all_solutions = [[1, 1, 1, 1, 9], [1, 3, 7, 3, 6], [1, 7, 3, 7, 2], [1, 9, 9, 9, 8]]\n",
        "\n",
        "if sol == []:\n",
        "    print('No solution')\n",
        "else:\n",
        "    if sol in all_solutions:\n",
        "        print('Solution found:', sol)\n",
        "    else:\n",
        "        print('ERROR: False solution found:', sol)"
      ],
      "execution_count": null,
      "outputs": [
        {
          "output_type": "stream",
          "text": [
            "YVBGR\n",
            "ERROR: False solution found: [1, 2, 5, 2, 4]\n"
          ],
          "name": "stdout"
        }
      ]
    },
    {
      "cell_type": "code",
      "metadata": {
        "id": "qYHsvoL6Z7qw",
        "colab_type": "code",
        "colab": {
          "base_uri": "https://localhost:8080/",
          "height": 50
        },
        "outputId": "d8514d1c-8594-4e12-e4a0-b8fa2959813b"
      },
      "source": [
        "# Test Case 3\n",
        "\n",
        "nodes = 'VYGBR'\n",
        "arcs = [(0,1), (1,2), (2,3), (3,4)]\n",
        "max_steps = 1000\n",
        "\n",
        "for _ in range(max_steps):\n",
        "    sol = solve_csp(nodes, arcs, max_steps)\n",
        "    if sol != []:\n",
        "        print(nodes)\n",
        "        break\n",
        "        \n",
        "all_solutions = [[2, 2, 1, 9, 8],[3, 3, 1, 8, 7],[4, 4, 1, 7, 6],[5, 5, 1, 6, 5],[5, 5, 3, 8, 5],\n",
        "                 [6, 6, 1, 5, 4],[7, 7, 1, 4, 3],[8, 8, 1, 3, 2],[8, 8, 6, 8, 2],[9, 9, 1, 2, 1]]\n",
        "\n",
        "if sol == []:\n",
        "    print('No solution')\n",
        "else:\n",
        "    if sol in all_solutions:\n",
        "        print('Solution found:', sol)\n",
        "    else:\n",
        "        print('ERROR: False solution found:', sol)"
      ],
      "execution_count": null,
      "outputs": [
        {
          "output_type": "stream",
          "text": [
            "VYGBR\n",
            "Solution found: [6, 6, 1, 5, 4]\n"
          ],
          "name": "stdout"
        }
      ]
    },
    {
      "cell_type": "code",
      "metadata": {
        "id": "UwWh4sy1Z7q0",
        "colab_type": "code",
        "colab": {
          "base_uri": "https://localhost:8080/",
          "height": 50
        },
        "outputId": "d80765d0-d30e-475a-8b5a-a75ca4b23a4f"
      },
      "source": [
        "# Test Case 4\n",
        "\n",
        "nodes = 'YGVBR'\n",
        "arcs = [(0,1), (0,2), (1,3), (2,3), (3,4), (1,2)]\n",
        "max_steps = 1000\n",
        "\n",
        "for _ in range(max_steps):\n",
        "    sol = solve_csp(nodes, arcs, max_steps)\n",
        "    if sol != []:\n",
        "        print(nodes)\n",
        "        break\n",
        "        \n",
        "all_solutions = [[4, 4, 1, 9, 4],[4, 7, 2, 1, 1],[4, 7, 2, 1, 2],[4, 7, 2, 1, 3],[4, 7, 2, 1, 4],\n",
        "                 [4, 7, 2, 1, 5],[4, 7, 2, 1, 6],[4, 7, 2, 1, 7],[4, 7, 2, 1, 8],[4, 7, 2, 1, 9],\n",
        "                 [4, 8, 3, 1, 1],[4, 8, 3, 1, 2],[4, 8, 3, 1, 3],[4, 8, 3, 1, 4],[4, 8, 3, 1, 5],\n",
        "                 [4, 8, 3, 1, 6],[4, 8, 3, 1, 7],[4, 8, 3, 1, 8],[5, 1, 5, 1, 4],[5, 1, 5, 1, 5],\n",
        "                 [5, 1, 5, 1, 6],[5, 1, 5, 1, 7],[5, 1, 5, 1, 8],[5, 1, 5, 1, 9]]\n",
        "\n",
        "if sol == []:\n",
        "    print('No solution')\n",
        "else:\n",
        "    if sol in all_solutions:\n",
        "        print('Solution found:', sol)\n",
        "    else:\n",
        "        print('ERROR: False solution found:', sol)"
      ],
      "execution_count": null,
      "outputs": [
        {
          "output_type": "stream",
          "text": [
            "YGVBR\n",
            "Solution found: [4, 7, 2, 1, 3]\n"
          ],
          "name": "stdout"
        }
      ]
    },
    {
      "cell_type": "markdown",
      "metadata": {
        "id": "_yxCOqLJZ7q3",
        "colab_type": "text"
      },
      "source": [
        "# Question 3   -  the n rooks problem\n",
        "\n",
        "Rooks can move any number of squares horizontally or vertically on a chess board. The n rooks problem is to arrange rooks on an $n\\times n$ board in such a way that none of the rooks could bump into another by making any of its possible horizontal or vertical moves. \n",
        "\n",
        "For this problem, the variables are each column (labeled 0, 1, ... , $ n-1$), the the domain consists of each possible row (also labeled 0, 1, ... , $ n-1$). In each column we place a rook on row 0, row 1, ... , row $n-1$.\n",
        "\n",
        "For example, if $n=2$ we have only two solutions to this problem:\n",
        "\n",
        "    R @\n",
        "    @ R \n",
        "    \n",
        "or\n",
        "\n",
        "    @ R\n",
        "    R @ \n",
        "   \n",
        "How many possible solutions are there to this CSP, in terms of n?  \n",
        "Also, give a simple proof that your answer is correct."
      ]
    },
    {
      "cell_type": "markdown",
      "metadata": {
        "id": "hIpFqQRPZ7q4",
        "colab_type": "text"
      },
      "source": [
        "[There are n! possible solutions to this CSP. For example, for when n = 1, there is only one possible solution for the rook and 1! = 1. For when n = 2, we have just discussed that there are 2 possible solution and 2! = 2*1 = 2. For when n = 3, there are 6 possible solutions and 3! = 3 * 2 * 1 = 6. The 6 possible solution are:\n",
        "\n",
        "    R @ @\n",
        "    @ R @\n",
        "    @ @ R\n",
        "\n",
        "    @ @ R\n",
        "    @ R @\n",
        "    R @ @\n",
        "\n",
        "    @ R @\n",
        "    R @ @\n",
        "    @ @ R\n",
        "\n",
        "    @ @ R\n",
        "    R @ @\n",
        "    @ R @\n",
        "\n",
        "    R @ @\n",
        "    @ @ R\n",
        "    @ R @\n",
        "\n",
        "    @ R @\n",
        "    @ @ R\n",
        "    R @ @\n",
        "\n",
        "]\n",
        "\n"
      ]
    },
    {
      "cell_type": "markdown",
      "metadata": {
        "id": "mdxspP29Z7q5",
        "colab_type": "text"
      },
      "source": [
        "### Python Library to solve CSPs\n",
        "\n",
        "One useful Python module for solving these types of problems is called *constraint*. In the next cell you'll see how to load this module into a Jupyter notebook running in Colab. \n",
        "\n",
        "We'll use this module to solve the following simple CSP. Suppose our variables are x and y, and the values they are allowed to assume are numbers in the domain \n",
        "\n",
        "            {1, 2, ... , 100}, \n",
        "\n",
        "and with constraints be that $x^2=y$ and that $x$ is odd."
      ]
    },
    {
      "cell_type": "code",
      "metadata": {
        "id": "nBzBpOscZ7q5",
        "colab_type": "code",
        "colab": {
          "base_uri": "https://localhost:8080/",
          "height": 50
        },
        "outputId": "438e2aeb-d31c-4b96-ffb1-d66a1918d7f9"
      },
      "source": [
        "# The following line imports the constraint module into a Jupyter notebook running in Colab.\n",
        "# (This only needs to be done once per session)\n",
        "!pip install python-constraint\n",
        "\n",
        "# Let's load all the functions available in this module\n",
        "# (This only needs to be done once per session)\n",
        "from constraint import *\n",
        "\n",
        "# Now we initialize a new problem and add the two variables.\n",
        "problem = Problem()\n",
        "problem.addVariables([\"x\", \"y\"], list(range(1, 101)))\n",
        "\n",
        "# So far there are no constraints.  If we solve the problem with no constraints, \n",
        "# then every possible combination of x and y values from 1 to 100 are valid solutions.\n",
        "solutions = problem.getSolutions()\n",
        "\n",
        "# There are 100*100 = 10000 solutions in there:\n",
        "print( len(solutions) )"
      ],
      "execution_count": null,
      "outputs": [
        {
          "output_type": "stream",
          "text": [
            "Requirement already satisfied: python-constraint in /usr/local/lib/python3.6/dist-packages (1.4.0)\n",
            "10000\n"
          ],
          "name": "stdout"
        }
      ]
    },
    {
      "cell_type": "code",
      "metadata": {
        "id": "2UNXurz2Z7q8",
        "colab_type": "code",
        "colab": {
          "base_uri": "https://localhost:8080/",
          "height": 34
        },
        "outputId": "dbdb3e90-8556-44a9-ffab-ba48bc17dfdc"
      },
      "source": [
        "# Add the given constraints:\n",
        "problem.addConstraint(lambda a, b: a**2 == b and (a % 2) == 1, (\"x\", \"y\"))\n",
        "\n",
        "# There are only 5 solutions that satisfy those constraints:\n",
        "solutions = problem.getSolutions()\n",
        "print( len(solutions) )"
      ],
      "execution_count": null,
      "outputs": [
        {
          "output_type": "stream",
          "text": [
            "5\n"
          ],
          "name": "stdout"
        }
      ]
    },
    {
      "cell_type": "code",
      "metadata": {
        "id": "VZ7n1ANYZ7rB",
        "colab_type": "code",
        "colab": {
          "base_uri": "https://localhost:8080/",
          "height": 34
        },
        "outputId": "e4972a76-0f6a-41d6-ea7d-78eada2c83d9"
      },
      "source": [
        "# Here are all 5 solutions:\n",
        "print(solutions)"
      ],
      "execution_count": null,
      "outputs": [
        {
          "output_type": "stream",
          "text": [
            "[{'x': 9, 'y': 81}, {'x': 7, 'y': 49}, {'x': 5, 'y': 25}, {'x': 3, 'y': 9}, {'x': 1, 'y': 1}]\n"
          ],
          "name": "stdout"
        }
      ]
    },
    {
      "cell_type": "markdown",
      "metadata": {
        "id": "1yJZnXU9Z7rE",
        "colab_type": "text"
      },
      "source": [
        "Notice that the solutions consist of a list of dictionaries, where each dictionary represents a solution. For example, the first solution is {'x': 9, 'y': 81}, since with $x=9$ and $y=81$ it's true that $x^2=y$."
      ]
    },
    {
      "cell_type": "markdown",
      "metadata": {
        "id": "N5XEr0oiZ7rF",
        "colab_type": "text"
      },
      "source": [
        "### The n-rooks problem revisited\n",
        "\n",
        "Modify the example before to solve the n rooks problem. You only need one call to *problem.addConstraint*, as before, since you can use logical 'and's to include as many other constraints in the lambda function as you need."
      ]
    },
    {
      "cell_type": "code",
      "metadata": {
        "id": "djJ-an18Z7rF",
        "colab_type": "code",
        "colab": {
          "base_uri": "https://localhost:8080/",
          "height": 34
        },
        "outputId": "9e390db6-90e4-4aed-ef5a-14f447522433"
      },
      "source": [
        "# YOUR CODE HERE\n",
        "\n",
        "#setting up the problem\n",
        "problem = Problem()\n",
        "#for part b change the n value to 11\n",
        "n = 8\n",
        "#initializing the variables\n",
        "cols = range(n)\n",
        "rows = range(n)\n",
        "problem.addVariables(cols, rows)\n",
        "\n",
        "#adding the constraints\n",
        "for column1 in cols:\n",
        "     for column2 in cols:\n",
        "         if column1 < column2:\n",
        "             problem.addConstraint(lambda row1, row2: row1 != row2,(column1, column2))\n",
        "#getting and printing out the number of solutions for the n rook problem\n",
        "solutions = problem.getSolutions()\n",
        "print(len(solutions))"
      ],
      "execution_count": null,
      "outputs": [
        {
          "output_type": "stream",
          "text": [
            "40320\n"
          ],
          "name": "stdout"
        }
      ]
    },
    {
      "cell_type": "markdown",
      "metadata": {
        "id": "gNKId_tZZ7rM",
        "colab_type": "text"
      },
      "source": [
        "\n",
        "(a) How many ways are there of arranging 8 rooks on an 8x8 board so that none impede the others?\n",
        "\n",
        "(b) How many ways are there arranging 11 rooks on an 11x11 board so that none impede the others?"
      ]
    },
    {
      "cell_type": "markdown",
      "metadata": {
        "id": "x4iDMQ42Z7rM",
        "colab_type": "text"
      },
      "source": [
        "(a) [40320 different ways of arrange the rooks when n = 8. 8! = 40320]\n",
        "\n",
        "(b) [39916800 different ways of arranging the rooks when n = 11. 11! = 39916800]"
      ]
    }
  ]
}