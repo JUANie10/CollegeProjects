{
  "nbformat": 4,
  "nbformat_minor": 0,
  "metadata": {
    "colab": {
      "name": "Copy of Assignment2.ipynb",
      "provenance": [],
      "collapsed_sections": [],
      "toc_visible": true
    },
    "language_info": {
      "codemirror_mode": {
        "name": "ipython",
        "version": 3
      },
      "file_extension": ".py",
      "mimetype": "text/x-python",
      "name": "python",
      "nbconvert_exporter": "python",
      "pygments_lexer": "ipython3",
      "version": "3.6.7"
    },
    "kernelspec": {
      "display_name": "Python (p3env)",
      "language": "python",
      "name": "p3env"
    }
  },
  "cells": [
    {
      "cell_type": "code",
      "metadata": {
        "id": "T6LzXTtwW_cj",
        "colab_type": "code",
        "colab": {}
      },
      "source": [
        "%matplotlib inline"
      ],
      "execution_count": null,
      "outputs": []
    },
    {
      "cell_type": "markdown",
      "metadata": {
        "id": "GWCPCDvGW_cm",
        "colab_type": "text"
      },
      "source": [
        "# Assignment 2\n",
        "\n",
        "**DUE: Sunday July 05, 2020 11:59pm**\n",
        "\n",
        "Turn in the assignment via Canvas.\n",
        "\n",
        "To write legible answers you will need to be familiar with both [Markdown](https://github.com/adam-p/markdown-here/wiki/Markdown-Cheatsheet) and [Latex](https://www.latex-tutorial.com/tutorials/amsmath/)\n",
        "\n",
        "Before you turn this problem in, make sure everything runs as expected. First, restart the kernel (in the menubar, select Kernel→→Restart) and then run all cells (in the menubar, select Cell→→Run All).\n",
        "#### Show your work!\n",
        "Whenever you are asked to find the solution to a problem, be sure to also show *how* you arrived at your answer.\n",
        "\n",
        "Make sure you fill in any place that says \"YOUR CODE HERE\" or \"YOUR ANSWERS HERE\", as well as your name below:"
      ]
    },
    {
      "cell_type": "code",
      "metadata": {
        "id": "HtYVVkQVW_cm",
        "colab_type": "code",
        "colab": {}
      },
      "source": [
        "NAME = \"Juan Lee\"\n",
        "STUDENT_ID = \"\""
      ],
      "execution_count": null,
      "outputs": []
    },
    {
      "cell_type": "markdown",
      "metadata": {
        "id": "Hc-OUgRxWIPM",
        "colab_type": "text"
      },
      "source": [
        "## Problem 1\n",
        "\n",
        "![figure](https://docs.google.com/drawings/d/e/2PACX-1vR3cNeZWfHNbPXRGyZrKazhI2WNM9wroJoAsshbD7LzwEBd4k0W_zu-T30_O_4iHC2qpKRxCRBA1IjV/pub?w=480&h=320)\n",
        "\n",
        "Which solution would the following search algorithms find to move from node *Start* to node *Goal* if run on the graph above?\n",
        "\n",
        "a. Breadth-First Search\n",
        "\n",
        "b. Depth-First Search\n",
        "\n",
        "c. Uniform Cost Search\n",
        "\n",
        "Explain by drawing an equivalent search tree for each of them. Draw the search trees graphically.\n",
        "  - A good way to do this is through [Google Drawings](https://docs.google.com/drawings)\n",
        "  - When you're done you can embed it in the jupyter notebook using markdown syntax\n",
        "  - \\!\\[alt-text\\]\\(url\\)\n",
        "  - To get the URL for your image in Google Draw goto File->Publish to the web...->Embed and copy the src portion of the html tag"
      ]
    },
    {
      "cell_type": "markdown",
      "metadata": {
        "id": "sUml23ztWOA3",
        "colab_type": "text"
      },
      "source": [
        "[YOUR ANSWERS HERE]\n",
        "\n",
        "a. ![alt-text] (<img src=\"https://docs.google.com/drawings/d/e/2PACX-1vS3lns3q8N_D6ngcA3isfXgB5f8Z9T5Ta7k2TYZa03J6zr63R_5UbfdJ04AtfNX5MyUZSR-FLOabCK-/pub?w=960&amp;h=720\">)\n",
        "\n",
        "b. ![alt-text] (<img src=\"https://docs.google.com/drawings/d/e/2PACX-1vSHAZVcVPxz_c7Bz5_G4P9JNjh49cI0VJETEfSxZfTLUkcmocvnt0ph4PnxtadT87h9-iAFuFaff0bB/pub?w=960&amp;h=720\">)\n",
        "\n",
        "c. ![alt-text] (<img src=\"https://docs.google.com/drawings/d/e/2PACX-1vQDXUnVrCHufaggBaOEughxYSpPwmVbbJ6EFrDZKL0-tErdIZ8fYp7x-P2bQzv_MOLwu1tyZFavzdkg/pub?w=960&amp;h=720\">)"
      ]
    },
    {
      "cell_type": "markdown",
      "metadata": {
        "id": "2cCZFudXW_cp",
        "colab_type": "text"
      },
      "source": [
        "## Problem 2\n",
        "Answer the following questions about the search problem shown in the figure below. Break any ties alphabetically. For the questions that ask for a path, please give your answers in a form similar to this example, \n",
        "\n",
        "Start − a − d − Goal\n",
        "\n",
        "![figure](https://docs.google.com/drawings/d/e/2PACX-1vS4nUoOVGzXNZTHZLsY6wZ6VyjtPlA4mhcvWs-6mgwaeDwoMftqbYyytgBVmgOnqLoUGZbRt8cuQNfA/pub?w=640&h=480)\n",
        "\n",
        "What path would be returned for this search problem using each of the following graph search algorithms?\n",
        "\n",
        "a. Breadth-First Search\n",
        "\n",
        "b. Uniform Cost Search\n",
        "\n",
        "c. Depth-First Search\n",
        "\n",
        "d. A* Search\n",
        "\n",
        "Consider the heuristics for this problem shown in the table below.\n",
        "\n",
        "|     State     |     h1     |     h2        |\n",
        "|---------------|------------|---------------|\n",
        "|     start     |     5      |     4         |\n",
        "|     a         |     3      |     2         |\n",
        "|     b         |     6      |     6         |\n",
        "|     c         |     2      |     1         |\n",
        "|     d         |     3      |     3         |\n",
        "|     goal      |     0      |     0         |\n",
        "\n",
        "\n",
        "e. Is h1 admissible?\n",
        "\n",
        "f. Is h1 consistent?\n",
        "\n",
        "g. Is h2 admissible?\n",
        "\n",
        "h. Is h2 consistent?"
      ]
    },
    {
      "cell_type": "markdown",
      "metadata": {
        "id": "gFzDftDmW_cq",
        "colab_type": "text"
      },
      "source": [
        "[YOUR ANSWERS HERE]\n",
        "\n",
        "a. Start - Goal\n",
        "\n",
        "b. Start - a - c - Goal\n",
        "\n",
        "c. start - a - b - d - goal\n",
        "\n",
        "d. Start - a - c - Goal\n",
        "\n",
        "e. no because h(start) = 5 which is not less than or equal to h*(start) = 4\n",
        "\n",
        "f. No because h(start) = 5 > 1+3 for node a \n",
        "\n",
        "g. yes because every node h(s) <= FutureCost of s which s is interchangeable with any node\n",
        "\n",
        "h. No because h(start) = 4 > 1+2 for node a "
      ]
    },
    {
      "cell_type": "markdown",
      "metadata": {
        "id": "_uecj_VM0l1a",
        "colab_type": "text"
      },
      "source": [
        "##Problem 3\n",
        "\n",
        "![graph](https://docs.google.com/drawings/d/e/2PACX-1vStncj9Nc0LddQeViaYnykNxEZsJoYJMHhub2LLX8s7k7gwYjlnlt0cCcivymFihiZyOOMtHwzk1Z4G/pub?w=480&amp;h=320)\n",
        "\n",
        "Find the order of visited nodes of the given graph above using both Breadth-first Search (BFS) (Textbook Section 3.4.1) and Depth-First Search (DFS) (Textbook Section 3.4.3).\n",
        "\n",
        "A Node class is given for you to create the graph.\n",
        "\n",
        "**NOTE:**\n",
        " - If two nodes are considered equally good chocices, take the node with the lower ID first. \n",
        " - Do not revisit already explored nodes when implementing the DFS algorithm.\n",
        "\n"
      ]
    },
    {
      "cell_type": "code",
      "metadata": {
        "id": "5oZ3wxyN1lpY",
        "colab_type": "code",
        "colab": {}
      },
      "source": [
        "class Node:\n",
        "    \"\"\"\n",
        "    This class describes a single node contained within a graph. \n",
        "    It has the following instannce level attributes:\n",
        "    \n",
        "    ID: An integer id for the node i.e. 1\n",
        "    \"\"\"    \n",
        "    def __init__(self, ID):\n",
        "        self.ID = ID\n",
        "        self.connected_nodes = []\n",
        "        \n",
        "    def __repr__(self):\n",
        "        ID = self.ID\n",
        "        if len(self.connected_nodes)==0:\n",
        "            nodes = 'None'\n",
        "        else:\n",
        "            nodes = ','.join(str(cn[1].ID) for cn in self.connected_nodes)\n",
        "        return '\\nNode:{}\\nConnected Nodes:{}'.format(ID, nodes)\n",
        "        \n",
        "    def set_connected_nodes(self,connected_nodes):\n",
        "        \"\"\"\n",
        "        Adds edges that lead from this node to other nodes:\n",
        "        \n",
        "        Parameters:\n",
        "        - connected_nodes: A list of tuples consisting of (cost, Node), \n",
        "                           where 'cost' is a floating point value \n",
        "                           indicating the cost to get from this node \n",
        "                           to 'Node' and 'Node' is a Node object\n",
        "        \"\"\"\n",
        "        self.connected_nodes = connected_nodes\n",
        "    \n",
        "def build_graph():\n",
        "    \"\"\"\n",
        "    Builds the graph to be parsed by the search algorithms.\n",
        "    Returns: All nodes with connectivity in the graph\n",
        "    \"\"\"\n",
        "    ids = range(13)\n",
        "    coords = [(0,0), (1,1), (1,0), (1,1), (5,2), (3,1), (3,0), \n",
        "              (3,-1), (5,1), (4,1), (4,0), (4,-2), (7,0)]\n",
        "    \n",
        "    #https://en.wikipedia.org/wiki/Euclidean_distance\n",
        "    euclidean_distance = lambda x1y1, x2y2: ((x1y1[0]-x2y2[0])**2 +  (x1y1[1]-x2y2[1])**2)**(0.5)\n",
        "    \n",
        "    def build_connected_node_list(from_id, to_ids):\n",
        "        starting_coords = coords[from_id]\n",
        "        \n",
        "        connected_nodes = []\n",
        "        for to_id in to_ids:\n",
        "            connected_nodes.append((euclidean_distance(starting_coords, coords[to_id]), all_nodes[to_id]))\n",
        "            \n",
        "        return connected_nodes\n",
        "    \n",
        "    goal_coords = (7,0)\n",
        "    all_nodes = [Node(_id) for _id in ids]\n",
        "    \n",
        "    all_nodes[8].set_connected_nodes(build_connected_node_list(8, [12]))\n",
        "    all_nodes[10].set_connected_nodes(build_connected_node_list(10,[12]))\n",
        "    all_nodes[5].set_connected_nodes(build_connected_node_list(5, [8]))\n",
        "    all_nodes[6].set_connected_nodes(build_connected_node_list(6, [9, 10]))\n",
        "    all_nodes[7].set_connected_nodes(build_connected_node_list(7, [11]))\n",
        "    all_nodes[1].set_connected_nodes(build_connected_node_list(1, [4,5]))\n",
        "    all_nodes[2].set_connected_nodes(build_connected_node_list(2, [5,6]))\n",
        "    all_nodes[3].set_connected_nodes(build_connected_node_list(3, [7]))\n",
        "    all_nodes[0].set_connected_nodes(build_connected_node_list(0, [1,2,3]))\n",
        "    \n",
        "    return all_nodes"
      ],
      "execution_count": null,
      "outputs": []
    },
    {
      "cell_type": "code",
      "metadata": {
        "id": "sT9DpO4Zf2Qs",
        "colab_type": "code",
        "colab": {
          "base_uri": "https://localhost:8080/",
          "height": 470
        },
        "outputId": "d2cda820-b359-43fd-de23-42d2e70cad1f"
      },
      "source": [
        "# The starting node. You can use this cell to familiarize\n",
        "# yourself with the node/graph structure\n",
        "build_graph()"
      ],
      "execution_count": null,
      "outputs": [
        {
          "output_type": "execute_result",
          "data": {
            "text/plain": [
              "[\n",
              " Node:0\n",
              " Connected Nodes:1,2,3, \n",
              " Node:1\n",
              " Connected Nodes:4,5, \n",
              " Node:2\n",
              " Connected Nodes:5,6, \n",
              " Node:3\n",
              " Connected Nodes:7, \n",
              " Node:4\n",
              " Connected Nodes:None, \n",
              " Node:5\n",
              " Connected Nodes:8, \n",
              " Node:6\n",
              " Connected Nodes:9,10, \n",
              " Node:7\n",
              " Connected Nodes:11, \n",
              " Node:8\n",
              " Connected Nodes:12, \n",
              " Node:9\n",
              " Connected Nodes:None, \n",
              " Node:10\n",
              " Connected Nodes:12, \n",
              " Node:11\n",
              " Connected Nodes:None, \n",
              " Node:12\n",
              " Connected Nodes:None]"
            ]
          },
          "metadata": {
            "tags": []
          },
          "execution_count": 60
        }
      ]
    },
    {
      "cell_type": "code",
      "metadata": {
        "id": "zUAP1i0N1syW",
        "colab_type": "code",
        "colab": {}
      },
      "source": [
        "def BFS(starting_node, goal_node):\n",
        "    \"\"\"\n",
        "    This function implements the breath first search algorithm\n",
        "    \n",
        "    Parameters:\n",
        "    - starting_node: The entry node into the graph\n",
        "    - goal_node: The integer ID of the goal node.\n",
        "    \n",
        "    Returns:\n",
        "    A list containing the visited nodes in order they were visited with starting node\n",
        "    always being the first node and the goal node always being the last\n",
        "    \"\"\"\n",
        "    visited_nodes_in_order = []\n",
        "    \n",
        "    # YOUR CODE HERE\n",
        "\n",
        "    frontier = [starting_node]\n",
        "    while len(frontier) != 0:\n",
        "      N = frontier.pop(0)\n",
        "      if not (N.ID in visited_nodes_in_order):\n",
        "        visited_nodes_in_order.append(N.ID)\n",
        "      for d, i in N.connected_nodes:\n",
        "        if not (i.ID in visited_nodes_in_order) and not (i in frontier):\n",
        "          if i.ID == goal_node:\n",
        "            visited_nodes_in_order.append(goal_node)\n",
        "            return visited_nodes_in_order\n",
        "          visited_nodes_in_order.append(i.ID)\n",
        "          frontier.append(i)\n",
        "\n",
        "    raise NotImplementedError()\n",
        "    \n",
        "    return visited_nodes_in_order\n",
        "    \n",
        "def DFS(starting_node, goal_node):\n",
        "    \"\"\"\n",
        "    This function implements the depth first search algorithm\n",
        "    \n",
        "    Parameters:\n",
        "    - starting_node: The entry node into the graph\n",
        "    - goal_node: The integer ID of the goal node.\n",
        "    \n",
        "    Returns:\n",
        "    A list containing the visited nodes in order they were visited with starting node\n",
        "    always being the first node and the goal node always being the last\n",
        "    \"\"\"\n",
        "    visited_nodes_in_order = []\n",
        "\n",
        "    # YOUR CODE HERE\n",
        "    visited_nodes_in_order.append(starting_node.ID)\n",
        "    stack = [starting_node]\n",
        "    while len(stack) != 0:\n",
        "      node = stack[-1]\n",
        "      if node.ID not in visited_nodes_in_order:\n",
        "        visited_nodes_in_order.append(node.ID)\n",
        "        if node.ID == goal_node:\n",
        "          return visited_nodes_in_order\n",
        "      remove = True\n",
        "      for d, i in node.connected_nodes:\n",
        "        if i.ID not in visited_nodes_in_order:\n",
        "          stack.insert(len(stack), i)\n",
        "          remove = False\n",
        "          break\n",
        "      if remove:\n",
        "        stack.pop()\n",
        "    \n",
        "    raise NotImplementedError()\n",
        "    \n",
        "    return visited_nodes_in_order\n",
        " \n",
        "    "
      ],
      "execution_count": null,
      "outputs": []
    },
    {
      "cell_type": "code",
      "metadata": {
        "id": "BekHk0MQ6W2k",
        "colab_type": "code",
        "colab": {
          "base_uri": "https://localhost:8080/",
          "height": 50
        },
        "outputId": "2cadd2c5-0bc8-4eb9-f30e-bf2de8422e71"
      },
      "source": [
        "goal_node = 12\n",
        "\n",
        "print(BFS(build_graph()[0], goal_node))\n",
        "\n",
        "print(DFS(build_graph()[0], goal_node))"
      ],
      "execution_count": null,
      "outputs": [
        {
          "output_type": "stream",
          "text": [
            "[0, 1, 2, 3, 4, 5, 6, 7, 8, 9, 10, 11, 12]\n",
            "[0, 1, 4, 5, 8, 12]\n"
          ],
          "name": "stdout"
        }
      ]
    },
    {
      "cell_type": "markdown",
      "metadata": {
        "id": "LM0yg5nnW_cx",
        "colab_type": "text"
      },
      "source": [
        "## Problem 4\n",
        "\n",
        "For the same graph from **Problem 3**, implement the **A* Search** (A-Star) (Textbook Section 3.5.2) algorithm.\n",
        "\n",
        "A modified Node class similar to the Node class from **Problem 3** is given to create the graph. \n",
        "Here is  the pseudo code from the book for **A* Search**.\n",
        "\n",
        "#### A* Search\n",
        "---\n",
        "The most widely known form of best-first search is called **A∗ search** (pronounced \"A-star search\"). It evaluates nodes by combining $g(n)$, the cost to reach the node, and $h(n)$, the cost to get from the node to the goal:\n",
        "\n",
        "\\begin{equation*}\n",
        "f(n) = g(n) + h(n) .\n",
        "\\end{equation*}\n",
        "\n",
        "Since $g(n)$ gives the path cost from the start node to node $n$, and $h(n)$ is the estimated cost of the cheapest path from n to the goal, we have\n",
        "\n",
        "\n",
        "$f(n)$= estimated cost of the cheapest solution through $n$ .\n",
        "\n",
        "**NOTE:**\n",
        "- If two nodes are considered equally good choices, take the node with the lower ID first. \n"
      ]
    },
    {
      "cell_type": "code",
      "metadata": {
        "id": "5gePs3lzpyrQ",
        "colab_type": "code",
        "colab": {}
      },
      "source": [
        "class Node:\n",
        "    \"\"\"\n",
        "    This class describes a single node contained within a graph. \n",
        "    It has the following instannce level attributes:\n",
        "    \n",
        "    ID: An integer id for the node i.e. 1\n",
        "    heuristic_cost: A float value representing the estimated \n",
        "                    cost to the goal node\n",
        "    \"\"\"    \n",
        "    def __init__(self, ID, heuristic_cost):\n",
        "        self.ID = ID\n",
        "        self.connected_nodes = []\n",
        "        self.heuristic_cost = heuristic_cost\n",
        "        \n",
        "    def __repr__(self):\n",
        "        ID = self.ID\n",
        "        hx = self.heuristic_cost\n",
        "        if len(self.connected_nodes)==0:\n",
        "            nodes = 'None'\n",
        "        else:\n",
        "            nodes = ','.join(str(cn[1].ID) for cn in self.connected_nodes)\n",
        "        return 'Node:{}\\nh(n):{}\\nConnected Nodes:{}'.format(ID, hx, nodes)\n",
        "        \n",
        "    def set_connected_nodes(self,connected_nodes):\n",
        "        \"\"\"\n",
        "        Adds edges that lead from this node to other nodes:\n",
        "        \n",
        "        Parameters:\n",
        "        - connected_nodes: A list of tuples consisting of (cost, Node), \n",
        "                           where 'cost' is a floating point value \n",
        "                           indicating the cost to get from this node \n",
        "                           to 'Node' and 'Node' is a Node object\n",
        "        \"\"\"\n",
        "        self.connected_nodes = connected_nodes\n",
        "    \n",
        "def build_graph():\n",
        "    \"\"\"\n",
        "    Builds the graph to be parsed by the search algorithms.\n",
        "    Returns: The starting node, which is the entry point into the graph\n",
        "    \"\"\"\n",
        "    ids = range(13)\n",
        "    coords = [(0,0), (1,1), (1,0), (1,1), (5,2), (3,1), (3,0), \n",
        "              (3,-1), (5,1), (4,1), (4,0), (4,-2), (7,0)]\n",
        "    \n",
        "    #https://en.wikipedia.org/wiki/Euclidean_distance\n",
        "    euclidean_distance = lambda x1y1, x2y2: ((x1y1[0]-x2y2[0])**2 +  (x1y1[1]-x2y2[1])**2)**(0.5)\n",
        "    \n",
        "    def build_connected_node_list(from_id, to_ids):\n",
        "        starting_coords = coords[from_id]\n",
        "        \n",
        "        connected_nodes = []\n",
        "        for to_id in to_ids:\n",
        "            connected_nodes.append((euclidean_distance(starting_coords, coords[to_id]), all_nodes[to_id]))\n",
        "            \n",
        "        return connected_nodes\n",
        "    \n",
        "    goal_coords = (7,0)\n",
        "    all_nodes = [Node(_id, euclidean_distance(coord, goal_coords)) for _id, coord in zip(ids, coords)]\n",
        "    \n",
        "    all_nodes[8].set_connected_nodes(build_connected_node_list(8, [12]))\n",
        "    all_nodes[10].set_connected_nodes(build_connected_node_list(10,[12]))\n",
        "    all_nodes[5].set_connected_nodes(build_connected_node_list(5, [8]))\n",
        "    all_nodes[6].set_connected_nodes(build_connected_node_list(6, [9, 10]))\n",
        "    all_nodes[7].set_connected_nodes(build_connected_node_list(7, [11]))\n",
        "    all_nodes[1].set_connected_nodes(build_connected_node_list(1, [4,5]))\n",
        "    all_nodes[2].set_connected_nodes(build_connected_node_list(2, [5,6]))\n",
        "    all_nodes[3].set_connected_nodes(build_connected_node_list(3, [7]))\n",
        "    all_nodes[0].set_connected_nodes(build_connected_node_list(0, [1,2,3]))\n",
        "    \n",
        "    return all_nodes[0]"
      ],
      "execution_count": null,
      "outputs": []
    },
    {
      "cell_type": "code",
      "metadata": {
        "id": "aZYZ7nLahQGg",
        "colab_type": "code",
        "colab": {
          "base_uri": "https://localhost:8080/",
          "height": 67
        },
        "outputId": "723f03dd-2afa-4194-b352-60711868e62a"
      },
      "source": [
        "# The starting node. You can use this cell to familiarize\n",
        "# yourself with the node/graph structure\n",
        "build_graph()"
      ],
      "execution_count": null,
      "outputs": [
        {
          "output_type": "execute_result",
          "data": {
            "text/plain": [
              "Node:0\n",
              "h(n):7.0\n",
              "Connected Nodes:1,2,3"
            ]
          },
          "metadata": {
            "tags": []
          },
          "execution_count": 64
        }
      ]
    },
    {
      "cell_type": "code",
      "metadata": {
        "id": "ZDDwqQiFhVng",
        "colab_type": "code",
        "colab": {}
      },
      "source": [
        "def a_star_search(starting_node, goal_node):\n",
        "    \"\"\"\n",
        "    This function implements the A* search algorithm\n",
        "    \n",
        "    Parameters:\n",
        "    - starting_node: The entry node into the graph\n",
        "    - goal_node: The integer ID of the goal node.\n",
        "    \n",
        "    Returns:\n",
        "    A list containing the visited node ids in order they were visited with starting node\n",
        "    always being the first node and the goal node always being the last\n",
        "    \"\"\"\n",
        "    visited_nodes_in_order = []\n",
        "    \n",
        "    # YOUR CODE HERE\n",
        "    g = 0\n",
        "    open_list = [starting_node]\n",
        "    closed_list = []\n",
        "\n",
        "    while len(open_list) != 0:\n",
        "      f1 = 1000\n",
        "      for i in open_list:\n",
        "        f = g + i.heuristic_cost\n",
        "        if f1 > f:\n",
        "          f1 = f\n",
        "          m = i\n",
        "      open_list.remove(m)\n",
        "      if m.ID == goal_node:\n",
        "        visited_nodes_in_order.append(goal_node)\n",
        "        return visited_nodes_in_order\n",
        "      closed_list.append(m)\n",
        "      visited_nodes_in_order.append(m.ID)\n",
        "      for c, n in m.connected_nodes:\n",
        "        if n in closed_list:\n",
        "          continue\n",
        "        g+= c\n",
        "        if n in open_list and c < g:\n",
        "          open_list.remove(n)\n",
        "        if n in closed_list and c < g:\n",
        "          closed_list.remove(n)\n",
        "          visited_nodes_in_order.remove(n)\n",
        "        if not (n in open_list) and not (n in closed_list):\n",
        "          open_list.append(n)\n",
        "\n",
        "    raise NotImplementedError()\n",
        "    \n",
        "    return visited_nodes_in_order\n",
        "\n"
      ],
      "execution_count": null,
      "outputs": []
    },
    {
      "cell_type": "code",
      "metadata": {
        "id": "RDZzQjaGhcpO",
        "colab_type": "code",
        "colab": {}
      },
      "source": [
        "goal_node = 12\n",
        "\n",
        "a_star_search_answer = [0, 2, 6, 10, 12]\n",
        "\n",
        "assert a_star_search(build_graph(), goal_node)==a_star_search_answer"
      ],
      "execution_count": null,
      "outputs": []
    }
  ]
}